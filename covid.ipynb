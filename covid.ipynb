{
 "cells": [
  {
   "cell_type": "code",
   "execution_count": 2,
   "metadata": {},
   "outputs": [],
   "source": [
    "import pandas as pd\n",
    "import matplotlib.pyplot as plt\n",
    "\n",
    "df = pd.read_csv('modely_05_hospitalizovani_analyza_2020-11-25-00-13-25.csv', sep=';', header=0, comment='*')#,engine='python' )\n"
   ]
  },
  {
   "cell_type": "code",
   "execution_count": 117,
   "metadata": {},
   "outputs": [
    {
     "name": "stdout",
     "output_type": "stream",
     "text": [
      "mean 8.349283709939447\n",
      "<7 3229\n",
      ">=7 3542\n"
     ]
    },
    {
     "data": {
      "image/png": "[encoded data removed]",
      "text/plain": [
       "<Figure size 432x288 with 1 Axes>"
      ]
     },
     "metadata": {
      "needs_background": "light"
     },
     "output_type": "display_data"
    }
   ],
   "source": [
    "df['umrti'] = pd.to_datetime(df['datum_umrti'])\n",
    "df['positivita'] = pd.to_datetime(df['datum_positivity'])\n",
    "df['death'] = df['umrti'] - df['positivita']\n",
    "df['deathi'] = df['death'].dt.days\n",
    "plt.hist(df['deathi'],bins=100, range = (0,30), log=False)\n",
    "print('mean', df['deathi'].mean())\n",
    "print('<7', len(df.loc[df['deathi']<7]))\n",
    "print('>=7', len(df.loc[df['deathi']>=7]))\n",
    "plt.ylabel('deaths')\n",
    "plt.xlabel('day from positivity')\n",
    "None"
   ]
  },
  {
   "cell_type": "code",
   "execution_count": 118,
   "metadata": {},
   "outputs": [
    {
     "name": "stdout",
     "output_type": "stream",
     "text": [
      "mean 7.15359621916999\n",
      "<7 3785\n",
      ">=7 2986\n"
     ]
    },
    {
     "data": {
      "image/png": "[encoded data removed]",
      "text/plain": [
       "<Figure size 432x288 with 1 Axes>"
      ]
     },
     "metadata": {
      "needs_background": "light"
     },
     "output_type": "display_data"
    }
   ],
   "source": [
    "df['umrti'] = pd.to_datetime(df['datum_umrti'])\n",
    "df['hosp'] = pd.to_datetime(df['zahajeni_hosp'])\n",
    "df['death2'] = df['umrti'] - df['hosp']\n",
    "df['death2i'] = df['death2'].dt.days\n",
    "plt.hist(df['death2i'],bins=100, range = (0,30), log=False)\n",
    "print('mean', df['death2i'].mean())\n",
    "print('<7', len(df.loc[df['death2i']<7]))\n",
    "print('>=7', len(df.loc[df['death2i']>=7]))\n",
    "plt.ylabel('deaths')\n",
    "plt.xlabel('day from hospitalisation')\n",
    "None"
   ]
  },
  {
   "cell_type": "code",
   "execution_count": 124,
   "metadata": {},
   "outputs": [
    {
     "name": "stdout",
     "output_type": "stream",
     "text": [
      "mean 12.41080624981815\n",
      "<12 30907\n",
      ">=12 3462\n"
     ]
    },
    {
     "data": {
      "image/png": "[encoded data removed]",
      "text/plain": [
       "<Figure size 432x288 with 1 Axes>"
      ]
     },
     "metadata": {
      "needs_background": "light"
     },
     "output_type": "display_data"
    }
   ],
   "source": [
    "df['prizn'] = pd.to_datetime(df['datum_priznaku'])\n",
    "df['hosp'] = pd.to_datetime(df['zahajeni_hosp'])\n",
    "df['priznak'] = df['hosp'] - df['prizn']\n",
    "df['priznaki'] = df['priznak'].dt.days\n",
    "plt.hist(df['priznaki'],bins=100, range = (0,30), log=False)\n",
    "print('mean', df['priznaki'].mean())\n",
    "print('<12', len(df.loc[df['priznaki']<12]))\n",
    "print('>=12', len(df.loc[df['priznaki']>=12]))\n",
    "plt.ylabel('hospitalisations')\n",
    "plt.xlabel('days from signs to hospitalisation')\n",
    "None"
   ]
  },
  {
   "cell_type": "code",
   "execution_count": 123,
   "metadata": {},
   "outputs": [
    {
     "data": {
      "text/html": [
       "<div>\n",
       "<style scoped>\n",
       "    .dataframe tbody tr th:only-of-type {\n",
       "        vertical-align: middle;\n",
       "    }\n",
       "\n",
       "    .dataframe tbody tr th {\n",
       "        vertical-align: top;\n",
       "    }\n",
       "\n",
       "    .dataframe thead th {\n",
       "        text-align: right;\n",
       "    }\n",
       "</style>\n",
       "<table border=\"1\" class=\"dataframe\">\n",
       "  <thead>\n",
       "    <tr style=\"text-align: right;\">\n",
       "      <th></th>\n",
       "      <th>vek_kat</th>\n",
       "      <th>pohlavi</th>\n",
       "      <th>kraj_bydliste</th>\n",
       "      <th>kraj_prvni_nemocnice</th>\n",
       "      <th>datum_priznaku</th>\n",
       "      <th>datum_odberu</th>\n",
       "      <th>datum_positivity</th>\n",
       "      <th>stav_dle_khs</th>\n",
       "      <th>zahajeni_hosp</th>\n",
       "      <th>posledni_zaznam</th>\n",
       "      <th>...</th>\n",
       "      <th>datum_umrti</th>\n",
       "      <th>positivita</th>\n",
       "      <th>death</th>\n",
       "      <th>deathi</th>\n",
       "      <th>hosp</th>\n",
       "      <th>death2</th>\n",
       "      <th>death2i</th>\n",
       "      <th>prizn</th>\n",
       "      <th>priznak</th>\n",
       "      <th>priznaki</th>\n",
       "    </tr>\n",
       "  </thead>\n",
       "  <tbody>\n",
       "    <tr>\n",
       "      <th>2</th>\n",
       "      <td>70-74</td>\n",
       "      <td>M</td>\n",
       "      <td>CZ080</td>\n",
       "      <td>CZ080</td>\n",
       "      <td>2020-10-11</td>\n",
       "      <td>2020-10-22</td>\n",
       "      <td>2020-10-22</td>\n",
       "      <td>NaN</td>\n",
       "      <td>2020-11-03</td>\n",
       "      <td>2020-11-07</td>\n",
       "      <td>...</td>\n",
       "      <td>NaN</td>\n",
       "      <td>2020-10-22</td>\n",
       "      <td>NaT</td>\n",
       "      <td>NaN</td>\n",
       "      <td>2020-11-03</td>\n",
       "      <td>NaT</td>\n",
       "      <td>NaN</td>\n",
       "      <td>2020-10-11</td>\n",
       "      <td>23 days</td>\n",
       "      <td>23.0</td>\n",
       "    </tr>\n",
       "    <tr>\n",
       "      <th>7</th>\n",
       "      <td>55-59</td>\n",
       "      <td>M</td>\n",
       "      <td>CZ072</td>\n",
       "      <td>CZ072</td>\n",
       "      <td>2020-09-16</td>\n",
       "      <td>2020-09-16</td>\n",
       "      <td>2020-09-17</td>\n",
       "      <td>Střední - Střední</td>\n",
       "      <td>2020-09-30</td>\n",
       "      <td>2020-09-30</td>\n",
       "      <td>...</td>\n",
       "      <td>NaN</td>\n",
       "      <td>2020-09-17</td>\n",
       "      <td>NaT</td>\n",
       "      <td>NaN</td>\n",
       "      <td>2020-09-30</td>\n",
       "      <td>NaT</td>\n",
       "      <td>NaN</td>\n",
       "      <td>2020-09-16</td>\n",
       "      <td>14 days</td>\n",
       "      <td>14.0</td>\n",
       "    </tr>\n",
       "    <tr>\n",
       "      <th>10</th>\n",
       "      <td>65-69</td>\n",
       "      <td>Z</td>\n",
       "      <td>CZ052</td>\n",
       "      <td>CZ052</td>\n",
       "      <td>2020-10-23</td>\n",
       "      <td>2020-10-23</td>\n",
       "      <td>2020-10-23</td>\n",
       "      <td>NaN</td>\n",
       "      <td>2020-11-05</td>\n",
       "      <td>2020-11-05</td>\n",
       "      <td>...</td>\n",
       "      <td>NaN</td>\n",
       "      <td>2020-10-23</td>\n",
       "      <td>NaT</td>\n",
       "      <td>NaN</td>\n",
       "      <td>2020-11-05</td>\n",
       "      <td>NaT</td>\n",
       "      <td>NaN</td>\n",
       "      <td>2020-10-23</td>\n",
       "      <td>13 days</td>\n",
       "      <td>13.0</td>\n",
       "    </tr>\n",
       "    <tr>\n",
       "      <th>11</th>\n",
       "      <td>80-84</td>\n",
       "      <td>Z</td>\n",
       "      <td>CZ051</td>\n",
       "      <td>CZ051</td>\n",
       "      <td>2020-10-18</td>\n",
       "      <td>2020-10-18</td>\n",
       "      <td>2020-10-19</td>\n",
       "      <td>NaN</td>\n",
       "      <td>2020-11-15</td>\n",
       "      <td>2020-11-15</td>\n",
       "      <td>...</td>\n",
       "      <td>NaN</td>\n",
       "      <td>2020-10-19</td>\n",
       "      <td>NaT</td>\n",
       "      <td>NaN</td>\n",
       "      <td>2020-11-15</td>\n",
       "      <td>NaT</td>\n",
       "      <td>NaN</td>\n",
       "      <td>2020-10-18</td>\n",
       "      <td>28 days</td>\n",
       "      <td>28.0</td>\n",
       "    </tr>\n",
       "    <tr>\n",
       "      <th>17</th>\n",
       "      <td>65-69</td>\n",
       "      <td>M</td>\n",
       "      <td>CZ020</td>\n",
       "      <td>CZ020</td>\n",
       "      <td>2020-10-18</td>\n",
       "      <td>2020-10-23</td>\n",
       "      <td>2020-10-24</td>\n",
       "      <td>Lehký - Lehký</td>\n",
       "      <td>2020-11-02</td>\n",
       "      <td>2020-11-08</td>\n",
       "      <td>...</td>\n",
       "      <td>NaN</td>\n",
       "      <td>2020-10-24</td>\n",
       "      <td>NaT</td>\n",
       "      <td>NaN</td>\n",
       "      <td>2020-11-02</td>\n",
       "      <td>NaT</td>\n",
       "      <td>NaN</td>\n",
       "      <td>2020-10-18</td>\n",
       "      <td>15 days</td>\n",
       "      <td>15.0</td>\n",
       "    </tr>\n",
       "    <tr>\n",
       "      <th>...</th>\n",
       "      <td>...</td>\n",
       "      <td>...</td>\n",
       "      <td>...</td>\n",
       "      <td>...</td>\n",
       "      <td>...</td>\n",
       "      <td>...</td>\n",
       "      <td>...</td>\n",
       "      <td>...</td>\n",
       "      <td>...</td>\n",
       "      <td>...</td>\n",
       "      <td>...</td>\n",
       "      <td>...</td>\n",
       "      <td>...</td>\n",
       "      <td>...</td>\n",
       "      <td>...</td>\n",
       "      <td>...</td>\n",
       "      <td>...</td>\n",
       "      <td>...</td>\n",
       "      <td>...</td>\n",
       "      <td>...</td>\n",
       "      <td>...</td>\n",
       "    </tr>\n",
       "    <tr>\n",
       "      <th>37079</th>\n",
       "      <td>50-54</td>\n",
       "      <td>Z</td>\n",
       "      <td>CZ072</td>\n",
       "      <td>CZ072</td>\n",
       "      <td>2020-09-21</td>\n",
       "      <td>2020-09-22</td>\n",
       "      <td>2020-09-22</td>\n",
       "      <td>Lehký - Lehký</td>\n",
       "      <td>2020-10-07</td>\n",
       "      <td>2020-10-11</td>\n",
       "      <td>...</td>\n",
       "      <td>NaN</td>\n",
       "      <td>2020-09-22</td>\n",
       "      <td>NaT</td>\n",
       "      <td>NaN</td>\n",
       "      <td>2020-10-07</td>\n",
       "      <td>NaT</td>\n",
       "      <td>NaN</td>\n",
       "      <td>2020-09-21</td>\n",
       "      <td>16 days</td>\n",
       "      <td>16.0</td>\n",
       "    </tr>\n",
       "    <tr>\n",
       "      <th>37098</th>\n",
       "      <td>65-69</td>\n",
       "      <td>M</td>\n",
       "      <td>CZ071</td>\n",
       "      <td>CZ071</td>\n",
       "      <td>2020-10-28</td>\n",
       "      <td>2020-10-28</td>\n",
       "      <td>2020-10-29</td>\n",
       "      <td>NaN</td>\n",
       "      <td>2020-11-11</td>\n",
       "      <td>2020-11-14</td>\n",
       "      <td>...</td>\n",
       "      <td>2020-11-14</td>\n",
       "      <td>2020-10-29</td>\n",
       "      <td>16 days</td>\n",
       "      <td>16.0</td>\n",
       "      <td>2020-11-11</td>\n",
       "      <td>3 days</td>\n",
       "      <td>3.0</td>\n",
       "      <td>2020-10-28</td>\n",
       "      <td>14 days</td>\n",
       "      <td>14.0</td>\n",
       "    </tr>\n",
       "    <tr>\n",
       "      <th>37100</th>\n",
       "      <td>80-84</td>\n",
       "      <td>Z</td>\n",
       "      <td>CZ020</td>\n",
       "      <td>CZ020</td>\n",
       "      <td>2020-09-24</td>\n",
       "      <td>2020-10-08</td>\n",
       "      <td>2020-10-08</td>\n",
       "      <td>Bez příznaků - Bez příznaků</td>\n",
       "      <td>2020-10-08</td>\n",
       "      <td>2020-10-08</td>\n",
       "      <td>...</td>\n",
       "      <td>NaN</td>\n",
       "      <td>2020-10-08</td>\n",
       "      <td>NaT</td>\n",
       "      <td>NaN</td>\n",
       "      <td>2020-10-08</td>\n",
       "      <td>NaT</td>\n",
       "      <td>NaN</td>\n",
       "      <td>2020-09-24</td>\n",
       "      <td>14 days</td>\n",
       "      <td>14.0</td>\n",
       "    </tr>\n",
       "    <tr>\n",
       "      <th>37113</th>\n",
       "      <td>40-44</td>\n",
       "      <td>Z</td>\n",
       "      <td>CZ032</td>\n",
       "      <td>CZ032</td>\n",
       "      <td>2020-10-08</td>\n",
       "      <td>2020-10-11</td>\n",
       "      <td>2020-10-11</td>\n",
       "      <td>Lehký - Lehký</td>\n",
       "      <td>2020-10-21</td>\n",
       "      <td>2020-10-21</td>\n",
       "      <td>...</td>\n",
       "      <td>NaN</td>\n",
       "      <td>2020-10-11</td>\n",
       "      <td>NaT</td>\n",
       "      <td>NaN</td>\n",
       "      <td>2020-10-21</td>\n",
       "      <td>NaT</td>\n",
       "      <td>NaN</td>\n",
       "      <td>2020-10-08</td>\n",
       "      <td>13 days</td>\n",
       "      <td>13.0</td>\n",
       "    </tr>\n",
       "    <tr>\n",
       "      <th>37150</th>\n",
       "      <td>85-89</td>\n",
       "      <td>Z</td>\n",
       "      <td>CZ063</td>\n",
       "      <td>CZ063</td>\n",
       "      <td>2020-09-30</td>\n",
       "      <td>2020-10-13</td>\n",
       "      <td>2020-10-14</td>\n",
       "      <td>Střední - Střední</td>\n",
       "      <td>2020-10-14</td>\n",
       "      <td>2020-10-19</td>\n",
       "      <td>...</td>\n",
       "      <td>2020-10-19</td>\n",
       "      <td>2020-10-14</td>\n",
       "      <td>5 days</td>\n",
       "      <td>5.0</td>\n",
       "      <td>2020-10-14</td>\n",
       "      <td>5 days</td>\n",
       "      <td>5.0</td>\n",
       "      <td>2020-09-30</td>\n",
       "      <td>14 days</td>\n",
       "      <td>14.0</td>\n",
       "    </tr>\n",
       "  </tbody>\n",
       "</table>\n",
       "<p>2720 rows × 44 columns</p>\n",
       "</div>"
      ],
      "text/plain": [
       "      vek_kat pohlavi kraj_bydliste kraj_prvni_nemocnice datum_priznaku  \\\n",
       "2       70-74       M         CZ080                CZ080     2020-10-11   \n",
       "7       55-59       M         CZ072                CZ072     2020-09-16   \n",
       "10      65-69       Z         CZ052                CZ052     2020-10-23   \n",
       "11      80-84       Z         CZ051                CZ051     2020-10-18   \n",
       "17      65-69       M         CZ020                CZ020     2020-10-18   \n",
       "...       ...     ...           ...                  ...            ...   \n",
       "37079   50-54       Z         CZ072                CZ072     2020-09-21   \n",
       "37098   65-69       M         CZ071                CZ071     2020-10-28   \n",
       "37100   80-84       Z         CZ020                CZ020     2020-09-24   \n",
       "37113   40-44       Z         CZ032                CZ032     2020-10-08   \n",
       "37150   85-89       Z         CZ063                CZ063     2020-09-30   \n",
       "\n",
       "      datum_odberu datum_positivity                 stav_dle_khs  \\\n",
       "2       2020-10-22       2020-10-22                          NaN   \n",
       "7       2020-09-16       2020-09-17            Střední - Střední   \n",
       "10      2020-10-23       2020-10-23                          NaN   \n",
       "11      2020-10-18       2020-10-19                          NaN   \n",
       "17      2020-10-23       2020-10-24                Lehký - Lehký   \n",
       "...            ...              ...                          ...   \n",
       "37079   2020-09-22       2020-09-22                Lehký - Lehký   \n",
       "37098   2020-10-28       2020-10-29                          NaN   \n",
       "37100   2020-10-08       2020-10-08  Bez příznaků - Bez příznaků   \n",
       "37113   2020-10-11       2020-10-11                Lehký - Lehký   \n",
       "37150   2020-10-13       2020-10-14            Střední - Střední   \n",
       "\n",
       "      zahajeni_hosp posledni_zaznam  ... datum_umrti positivita   death  \\\n",
       "2        2020-11-03      2020-11-07  ...         NaN 2020-10-22     NaT   \n",
       "7        2020-09-30      2020-09-30  ...         NaN 2020-09-17     NaT   \n",
       "10       2020-11-05      2020-11-05  ...         NaN 2020-10-23     NaT   \n",
       "11       2020-11-15      2020-11-15  ...         NaN 2020-10-19     NaT   \n",
       "17       2020-11-02      2020-11-08  ...         NaN 2020-10-24     NaT   \n",
       "...             ...             ...  ...         ...        ...     ...   \n",
       "37079    2020-10-07      2020-10-11  ...         NaN 2020-09-22     NaT   \n",
       "37098    2020-11-11      2020-11-14  ...  2020-11-14 2020-10-29 16 days   \n",
       "37100    2020-10-08      2020-10-08  ...         NaN 2020-10-08     NaT   \n",
       "37113    2020-10-21      2020-10-21  ...         NaN 2020-10-11     NaT   \n",
       "37150    2020-10-14      2020-10-19  ...  2020-10-19 2020-10-14  5 days   \n",
       "\n",
       "       deathi       hosp  death2 death2i      prizn priznak  priznaki  \n",
       "2         NaN 2020-11-03     NaT     NaN 2020-10-11 23 days      23.0  \n",
       "7         NaN 2020-09-30     NaT     NaN 2020-09-16 14 days      14.0  \n",
       "10        NaN 2020-11-05     NaT     NaN 2020-10-23 13 days      13.0  \n",
       "11        NaN 2020-11-15     NaT     NaN 2020-10-18 28 days      28.0  \n",
       "17        NaN 2020-11-02     NaT     NaN 2020-10-18 15 days      15.0  \n",
       "...       ...        ...     ...     ...        ...     ...       ...  \n",
       "37079     NaN 2020-10-07     NaT     NaN 2020-09-21 16 days      16.0  \n",
       "37098    16.0 2020-11-11  3 days     3.0 2020-10-28 14 days      14.0  \n",
       "37100     NaN 2020-10-08     NaT     NaN 2020-09-24 14 days      14.0  \n",
       "37113     NaN 2020-10-21     NaT     NaN 2020-10-08 13 days      13.0  \n",
       "37150     5.0 2020-10-14  5 days     5.0 2020-09-30 14 days      14.0  \n",
       "\n",
       "[2720 rows x 44 columns]"
      ]
     },
     "execution_count": 123,
     "metadata": {},
     "output_type": "execute_result"
    }
   ],
   "source": [
    "df.loc[df['priznaki']>12]"
   ]
  },
  {
   "cell_type": "markdown",
   "metadata": {},
   "source": [
    "# COVID hospitals capacity"
   ]
  },
  {
   "cell_type": "code",
   "execution_count": 65,
   "metadata": {},
   "outputs": [
    {
     "name": "stdout",
     "output_type": "stream",
     "text": [
      "/home/kacer/Downloads/modely_04_hospitalizovani_2021-02-02-01-01-18.csv\n",
      "/home/kacer/Downloads/modely_04_hospitalizovani_2021-01-26-01-01-37.csv\n",
      "/home/kacer/Downloads/modely_04_hospitalizovani_2021-01-30-01-01-37.csv\n",
      "/home/kacer/Downloads/modely_04_hospitalizovani_2021-01-25-01-01-26.csv\n",
      "/home/kacer/Downloads/modely_04_hospitalizovani_2021-02-08-01-01-22.csv\n",
      "/home/kacer/Downloads/modely_04_hospitalizovani_2021-01-21-01-01-15.csv\n",
      "/home/kacer/Downloads/modely_04_hospitalizovani_2021-02-07-01-01-27.csv\n",
      "/home/kacer/Downloads/modely_04_hospitalizovani_2021-02-17-02-00-42.csv\n",
      "/home/kacer/Downloads/modely_04_hospitalizovani_2021-02-16-02-00-14.csv\n",
      "/home/kacer/Downloads/modely_04_hospitalizovani_2021-02-13-02-00-35.csv\n",
      "/home/kacer/Downloads/modely_04_hospitalizovani_2021-01-17-01-01-54.csv\n",
      "/home/kacer/Downloads/modely_04_hospitalizovani_2021-02-06-01-01-38.csv\n",
      "/home/kacer/Downloads/modely_04_hospitalizovani_2021-01-19-01-01-30.csv\n",
      "/home/kacer/Downloads/modely_04_hospitalizovani_2021-02-14-02-00-20.csv\n",
      "/home/kacer/Downloads/modely_04_hospitalizovani_2021-02-03-01-01-23.csv\n",
      "/home/kacer/Downloads/modely_04_hospitalizovani_2021-02-01-01-01-27.csv\n",
      "/home/kacer/Downloads/modely_04_hospitalizovani_2021-01-31-01-01-31.csv\n",
      "/home/kacer/Downloads/modely_04_hospitalizovani_2021-01-20-01-01-49.csv\n",
      "/home/kacer/Downloads/modely_04_hospitalizovani_2021-01-24-01-01-22.csv\n",
      "/home/kacer/Downloads/modely_04_hospitalizovani_2021-01-18-01-02-02.csv\n",
      "/home/kacer/Downloads/modely_04_hospitalizovani_2021-02-20-02-00-40.csv\n",
      "/home/kacer/Downloads/modely_04_hospitalizovani_2021-01-27-01-01-42.csv\n",
      "/home/kacer/Downloads/modely_04_hospitalizovani_2021-02-10-06-48-21.csv\n",
      "/home/kacer/Downloads/modely_04_hospitalizovani_2021-02-04-01-01-55.csv\n",
      "/home/kacer/Downloads/modely_04_hospitalizovani_2021-02-05-01-01-28.csv\n",
      "/home/kacer/Downloads/modely_04_hospitalizovani_2021-01-16-01-01-35.csv\n",
      "/home/kacer/Downloads/modely_04_hospitalizovani_2021-02-18-02-00-55.csv\n",
      "/home/kacer/Downloads/modely_04_hospitalizovani_2021-01-28-01-01-47.csv\n",
      "/home/kacer/Downloads/modely_04_hospitalizovani_2021-02-11-02-00-28.csv\n",
      "/home/kacer/Downloads/modely_04_hospitalizovani_2021-02-15-02-00-31.csv\n",
      "/home/kacer/Downloads/modely_04_hospitalizovani_2021-02-09-01-01-42.csv\n",
      "/home/kacer/Downloads/modely_04_hospitalizovani_2021-02-19-02-01-08.csv\n"
     ]
    },
    {
     "data": {
      "text/plain": [
       "Text(0, 0.5, 'Počet hospitalizovaných nebo lůžek')"
      ]
     },
     "execution_count": 65,
     "metadata": {},
     "output_type": "execute_result"
    },
    {
     "data": {
      "image/png": "[encoded data removed]",
      "text/plain": [
       "<Figure size 720x432 with 1 Axes>"
      ]
     },
     "metadata": {
      "needs_background": "light"
     },
     "output_type": "display_data"
    }
   ],
   "source": [
    "import pandas as pd\n",
    "import matplotlib.pyplot as plt\n",
    "import glob\n",
    "from pandas.plotting import register_matplotlib_converters\n",
    "register_matplotlib_converters()\n",
    "\n",
    "plt.figure(figsize=(10,6))\n",
    "plt.rcParams.update({'font.size': 13})\n",
    "\n",
    "hospitalizovani = pd.DataFrame()\n",
    "for fn in glob.glob(\"/home/kacer/Downloads/modely_04_hospitalizovani_*.csv\"):\n",
    "    print(fn)\n",
    "    df = pd.read_csv(fn, sep=';', header=0)\n",
    "    df['date'] = fn[:-4].split('_')[3]\n",
    "    df['date'] = pd.to_datetime(df['date'], format='%Y-%m-%d-%H-%M-%S') + pd.DateOffset(-1)\n",
    "    hospitalizovani = hospitalizovani.append(df.loc[df['okres'].str[0:5] == 'CZ031'].loc[df['stav'] == 'Hospitalizován'])\n",
    "\n",
    "FROM = pd.to_datetime('2021-01-14')\n",
    "TO = pd.Timestamp.now()\n",
    "    \n",
    "REPROFIL_VOLNA = 71\n",
    "REPROFIL_VOLNA_JIP = 18\n",
    "REPROFIL_SKUTECNA = 122\n",
    "REPROFIL_SKUTECNA_JIP = 23\n",
    "REPROFIL_PLANOVANA = 371\n",
    "REPROFIL_PLANOVANA_JIP = 84\n",
    "VOLNA = REPROFIL_VOLNA + REPROFIL_VOLNA_JIP\n",
    "VOLNA_JIP = REPROFIL_VOLNA_JIP\n",
    "PLANOVANA = REPROFIL_PLANOVANA + REPROFIL_PLANOVANA_JIP - REPROFIL_SKUTECNA  - REPROFIL_SKUTECNA_JIP\n",
    "hospitalizovani.set_index('date',inplace=True)\n",
    "xx = hospitalizovani.groupby(['date']).sum()\n",
    "#plt.plot([FROM,TO],[int(xx.iloc[-1]['pocet_pac']+VOLNA),int(xx.iloc[-1]['pocet_pac']+VOLNA)], label='Lůžka COVID  '+str(int(xx.iloc[-1]['pocet_pac']+VOLNA)), color='blue')\n",
    "plt.plot([FROM,TO],[int(xx.iloc[-1]['pocet_pac']+VOLNA),int(xx.iloc[-1]['pocet_pac']+VOLNA)], label='Lůžka COVID', color='blue')\n",
    "plt.fill_between([FROM,TO],[int(xx.iloc[-1]['pocet_pac']+VOLNA-REPROFIL_SKUTECNA-1),int(xx.iloc[-1]['pocet_pac']+VOLNA-REPROFIL_SKUTECNA-1)],[int(xx.iloc[-1]['jip']+VOLNA_JIP),int(xx.iloc[-1]['jip']+VOLNA_JIP)], label='Standardní kapacita', color='blue', alpha=0.1)\n",
    "plt.fill_between([FROM,TO],[int(xx.iloc[-1]['pocet_pac']+VOLNA),int(xx.iloc[-1]['pocet_pac']+VOLNA)],[int(xx.iloc[-1]['pocet_pac']+VOLNA-REPROFIL_SKUTECNA),int(xx.iloc[-1]['pocet_pac']+VOLNA-REPROFIL_SKUTECNA)], label='Reprofilizovaná lůžka', color='blue', alpha=0.2)\n",
    "\n",
    "#plt.plot([FROM,TO],[int(xx.iloc[-1]['jip']+VOLNA_JIP),int(xx.iloc[-1]['jip']+VOLNA_JIP)], label='Lůžka COVID JIP  '+str(int(xx.iloc[-1]['jip']+VOLNA_JIP)), color = 'orange')\n",
    "plt.plot([FROM,TO],[int(xx.iloc[-1]['jip']+VOLNA_JIP),int(xx.iloc[-1]['jip']+VOLNA_JIP)], label='Lůžka COVID JIP', color = 'orange')\n",
    "plt.fill_between([FROM,TO],[int(xx.iloc[-1]['jip']+VOLNA_JIP-REPROFIL_SKUTECNA_JIP-2),int(xx.iloc[-1]['jip']+VOLNA_JIP-REPROFIL_SKUTECNA_JIP)-2],[0,0], label='Standardní infekční lůžka JIP',color='orange', alpha=0.1)\n",
    "plt.fill_between([FROM,TO],[int(xx.iloc[-1]['jip']+VOLNA_JIP),int(xx.iloc[-1]['jip']+VOLNA_JIP)],[int(xx.iloc[-1]['jip']+VOLNA_JIP-REPROFIL_SKUTECNA_JIP),int(xx.iloc[-1]['jip']+VOLNA_JIP-REPROFIL_SKUTECNA_JIP)], label='Reprofilizovaná lůžka JIP', color='orange', alpha=0.2)\n",
    "\n",
    "\n",
    "#plt.plot([FROM,TO],[int(xx.iloc[-1]['pocet_pac']+VOLNA + PLANOVANA),int(xx.iloc[-1]['pocet_pac']+VOLNA + PLANOVANA)], label='Lůžka COVID plánovaná  '+str(int(xx.iloc[-1]['pocet_pac']+VOLNA + PLANOVANA)), color='green')\n",
    "#plt.fill_between([FROM,TO],[int(xx.iloc[-1]['pocet_pac']+VOLNA),int(xx.iloc[-1]['pocet_pac']+VOLNA)],[int(xx.iloc[-1]['pocet_pac']+VOLNA + PLANOVANA),int(xx.iloc[-1]['pocet_pac']+VOLNA + PLANOVANA)] ,  color='green', alpha=0.05)\n",
    "\n",
    "(xx['pocet_pac']).plot(marker='o', linestyle=':', label=\"Hospitalizovaní JČK celkem  \" + str(int(xx.iloc[-1]['pocet_pac'])), color='blue')\n",
    "(xx['jip']).plot(marker='o', linestyle=':', label=\"Hospitalizovaní s IP  \" + str(int(xx.iloc[-1]['jip'])), color='orange')\n",
    "#(xx['kyslik']).plot(marker='o', linestyle=':', label=\"Kyslík  \" + str(int(xx.iloc[-1]['kyslik'])))\n",
    "#(xx['upv']).plot(marker='o', linestyle=':', label=\"UPV  \" + str(int(xx.iloc[-1]['upv'])))\n",
    "#plt.annotate(str(xx['jip']),xx.index,xx['jip'], label=\"Hospitalizovaní JČK JIP\")\n",
    "\n",
    "#plt.legend(bbox_to_anchor=(1, 1.1))\n",
    "plt.legend()\n",
    "    \n",
    "#from matplotlib.dates import DayLocator, HourLocator, DateFormatter, drange\n",
    "#ax.xaxis.set_major_locator(DayLocator())\n",
    "#plt.major_locator(DayLocator())\n",
    "plt.ylim(1,480)\n",
    "plt.xlabel('Datum')\n",
    "plt.ylabel('Počet hospitalizovaných nebo lůžek')\n",
    "#plt.xlim('2021-01-14','2021-01-24')\n",
    "#plt.yscale('log')"
   ]
  },
  {
   "cell_type": "code",
   "execution_count": 82,
   "metadata": {},
   "outputs": [
    {
     "name": "stdout",
     "output_type": "stream",
     "text": [
      "./Kapacity a hospitalizovaní 19_10_2020 až 17_2_2021 (2).xlsx\n"
     ]
    },
    {
     "data": {
      "text/plain": [
       "<Figure size 720x432 with 0 Axes>"
      ]
     },
     "metadata": {},
     "output_type": "display_data"
    }
   ],
   "source": [
    "import pandas as pd\n",
    "import matplotlib.pyplot as plt\n",
    "import glob\n",
    "from pandas.plotting import register_matplotlib_converters\n",
    "register_matplotlib_converters()\n",
    "\n",
    "plt.figure(figsize=(10,6))\n",
    "plt.rcParams.update({'font.size': 13})\n",
    "\n",
    "xf = pd.DataFrame()\n",
    "xxf = pd.DataFrame()\n",
    "\n",
    "hospitalizovani = pd.DataFrame()\n",
    "for fn in glob.glob(\"./*.xlsx\"):\n",
    "    print(fn)\n",
    "    xls = pd.ExcelFile(fn)\n",
    "    for sheet in xls.sheet_names:    \n",
    "        try:\n",
    "            df = pd.read_excel(fn, sheet_name=sheet)\n",
    "            xf.loc[0,'date'] = sheet\n",
    "            xf.loc[0,'hosp'] = df.iloc[14,12]\n",
    "            xf.loc[0,'ip'] = df.iloc[14,7] + df.iloc[14,9]\n",
    "            xxf = xxf.append(xf)\n",
    "        except:\n",
    "            pass\n"
   ]
  },
  {
   "cell_type": "code",
   "execution_count": 83,
   "metadata": {},
   "outputs": [
    {
     "data": {
      "text/plain": [
       "[<matplotlib.lines.Line2D at 0x7f065d147f10>]"
      ]
     },
     "execution_count": 83,
     "metadata": {},
     "output_type": "execute_result"
    },
    {
     "data": {
      "image/png": "[encoded data removed]",
      "text/plain": [
       "<Figure size 1080x432 with 1 Axes>"
      ]
     },
     "metadata": {
      "needs_background": "light"
     },
     "output_type": "display_data"
    }
   ],
   "source": [
    "plt.figure(figsize=(15,6))\n",
    "plt.rcParams.update({'font.size': 13})\n",
    "xxf['time'] = pd.to_datetime(xxf['date'], format='%d.%m.%Y', errors='ignore')\n",
    "plt.plot(xxf['time'], xxf['hosp'])"
   ]
  },
  {
   "cell_type": "code",
   "execution_count": 84,
   "metadata": {},
   "outputs": [
    {
     "data": {
      "text/plain": [
       "[<matplotlib.lines.Line2D at 0x7f065cd07b20>]"
      ]
     },
     "execution_count": 84,
     "metadata": {},
     "output_type": "execute_result"
    },
    {
     "data": {
      "image/png": "[encoded data removed]",
      "text/plain": [
       "<Figure size 1080x432 with 1 Axes>"
      ]
     },
     "metadata": {
      "needs_background": "light"
     },
     "output_type": "display_data"
    }
   ],
   "source": [
    "plt.figure(figsize=(15,6))\n",
    "plt.rcParams.update({'font.size': 13})\n",
    "xxf['time'] = pd.to_datetime(xxf['date'], format='%d.%m.%Y', errors='ignore')\n",
    "plt.plot(xxf['time'], xxf['ip'])"
   ]
  },
  {
   "cell_type": "code",
   "execution_count": 49,
   "metadata": {},
   "outputs": [
    {
     "data": {
      "text/html": [
       "<div>\n",
       "<style scoped>\n",
       "    .dataframe tbody tr th:only-of-type {\n",
       "        vertical-align: middle;\n",
       "    }\n",
       "\n",
       "    .dataframe tbody tr th {\n",
       "        vertical-align: top;\n",
       "    }\n",
       "\n",
       "    .dataframe thead th {\n",
       "        text-align: right;\n",
       "    }\n",
       "</style>\n",
       "<table border=\"1\" class=\"dataframe\">\n",
       "  <thead>\n",
       "    <tr style=\"text-align: right;\">\n",
       "      <th></th>\n",
       "      <th>komplikovany</th>\n",
       "      <th>jip</th>\n",
       "      <th>kyslik</th>\n",
       "      <th>upv</th>\n",
       "      <th>ecmo</th>\n",
       "      <th>pocet_pac</th>\n",
       "    </tr>\n",
       "    <tr>\n",
       "      <th>date</th>\n",
       "      <th></th>\n",
       "      <th></th>\n",
       "      <th></th>\n",
       "      <th></th>\n",
       "      <th></th>\n",
       "      <th></th>\n",
       "    </tr>\n",
       "  </thead>\n",
       "  <tbody>\n",
       "    <tr>\n",
       "      <th>2021-01-15 01:01:35</th>\n",
       "      <td>80.0</td>\n",
       "      <td>70.0</td>\n",
       "      <td>170</td>\n",
       "      <td>27</td>\n",
       "      <td>0</td>\n",
       "      <td>409</td>\n",
       "    </tr>\n",
       "    <tr>\n",
       "      <th>2021-01-16 01:01:54</th>\n",
       "      <td>78.0</td>\n",
       "      <td>67.0</td>\n",
       "      <td>165</td>\n",
       "      <td>27</td>\n",
       "      <td>0</td>\n",
       "      <td>418</td>\n",
       "    </tr>\n",
       "    <tr>\n",
       "      <th>2021-01-17 01:02:02</th>\n",
       "      <td>80.0</td>\n",
       "      <td>68.0</td>\n",
       "      <td>164</td>\n",
       "      <td>26</td>\n",
       "      <td>0</td>\n",
       "      <td>422</td>\n",
       "    </tr>\n",
       "    <tr>\n",
       "      <th>2021-01-18 01:01:30</th>\n",
       "      <td>80.0</td>\n",
       "      <td>71.0</td>\n",
       "      <td>153</td>\n",
       "      <td>30</td>\n",
       "      <td>0</td>\n",
       "      <td>402</td>\n",
       "    </tr>\n",
       "  </tbody>\n",
       "</table>\n",
       "</div>"
      ],
      "text/plain": [
       "                     komplikovany   jip  kyslik  upv  ecmo  pocet_pac\n",
       "date                                                                 \n",
       "2021-01-15 01:01:35          80.0  70.0     170   27     0        409\n",
       "2021-01-16 01:01:54          78.0  67.0     165   27     0        418\n",
       "2021-01-17 01:02:02          80.0  68.0     164   26     0        422\n",
       "2021-01-18 01:01:30          80.0  71.0     153   30     0        402"
      ]
     },
     "execution_count": 49,
     "metadata": {},
     "output_type": "execute_result"
    }
   ],
   "source": [
    "#hospitalizovani\n",
    "xx = hospitalizovani.groupby(['date']).sum()\n",
    "xx.drop('orp', axis = 1, inplace = True)\n",
    "xx"
   ]
  },
  {
   "cell_type": "code",
   "execution_count": 9,
   "metadata": {},
   "outputs": [
    {
     "data": {
      "text/plain": [
       "402.0"
      ]
     },
     "execution_count": 9,
     "metadata": {},
     "output_type": "execute_result"
    }
   ],
   "source": [
    "xx.iloc[-1]['pocet_pac']"
   ]
  },
  {
   "cell_type": "code",
   "execution_count": 40,
   "metadata": {},
   "outputs": [],
   "source": [
    "df = pd.read_csv('/home/kacer/git/WPForce/CZ.txt', header=None, engine='python')"
   ]
  },
  {
   "cell_type": "code",
   "execution_count": 19,
   "metadata": {},
   "outputs": [
    {
     "ename": "ValueError",
     "evalue": "cannot index with vector containing NA / NaN values",
     "output_type": "error",
     "traceback": [
      "\u001b[0;31m---------------------------------------------------------------------------\u001b[0m",
      "\u001b[0;31mValueError\u001b[0m                                Traceback (most recent call last)",
      "\u001b[0;32m<ipython-input-19-3b709aaeab64>\u001b[0m in \u001b[0;36m<module>\u001b[0;34m\u001b[0m\n\u001b[0;32m----> 1\u001b[0;31m \u001b[0mdf\u001b[0m\u001b[0;34m.\u001b[0m\u001b[0mloc\u001b[0m\u001b[0;34m[\u001b[0m\u001b[0mdf\u001b[0m\u001b[0;34m.\u001b[0m\u001b[0miloc\u001b[0m\u001b[0;34m[\u001b[0m\u001b[0;34m:\u001b[0m\u001b[0;34m,\u001b[0m\u001b[0;36m0\u001b[0m\u001b[0;34m]\u001b[0m\u001b[0;34m.\u001b[0m\u001b[0mstr\u001b[0m\u001b[0;34m.\u001b[0m\u001b[0misalpha\u001b[0m\u001b[0;34m(\u001b[0m\u001b[0;34m)\u001b[0m\u001b[0;34m]\u001b[0m\u001b[0;34m\u001b[0m\u001b[0;34m\u001b[0m\u001b[0m\n\u001b[0m",
      "\u001b[0;32m/usr/lib/python3/dist-packages/pandas/core/indexing.py\u001b[0m in \u001b[0;36m__getitem__\u001b[0;34m(self, key)\u001b[0m\n\u001b[1;32m   1422\u001b[0m \u001b[0;34m\u001b[0m\u001b[0m\n\u001b[1;32m   1423\u001b[0m             \u001b[0mmaybe_callable\u001b[0m \u001b[0;34m=\u001b[0m \u001b[0mcom\u001b[0m\u001b[0;34m.\u001b[0m\u001b[0mapply_if_callable\u001b[0m\u001b[0;34m(\u001b[0m\u001b[0mkey\u001b[0m\u001b[0;34m,\u001b[0m \u001b[0mself\u001b[0m\u001b[0;34m.\u001b[0m\u001b[0mobj\u001b[0m\u001b[0;34m)\u001b[0m\u001b[0;34m\u001b[0m\u001b[0;34m\u001b[0m\u001b[0m\n\u001b[0;32m-> 1424\u001b[0;31m             \u001b[0;32mreturn\u001b[0m \u001b[0mself\u001b[0m\u001b[0;34m.\u001b[0m\u001b[0m_getitem_axis\u001b[0m\u001b[0;34m(\u001b[0m\u001b[0mmaybe_callable\u001b[0m\u001b[0;34m,\u001b[0m \u001b[0maxis\u001b[0m\u001b[0;34m=\u001b[0m\u001b[0maxis\u001b[0m\u001b[0;34m)\u001b[0m\u001b[0;34m\u001b[0m\u001b[0;34m\u001b[0m\u001b[0m\n\u001b[0m\u001b[1;32m   1425\u001b[0m \u001b[0;34m\u001b[0m\u001b[0m\n\u001b[1;32m   1426\u001b[0m     \u001b[0;32mdef\u001b[0m \u001b[0m_is_scalar_access\u001b[0m\u001b[0;34m(\u001b[0m\u001b[0mself\u001b[0m\u001b[0;34m,\u001b[0m \u001b[0mkey\u001b[0m\u001b[0;34m:\u001b[0m \u001b[0mTuple\u001b[0m\u001b[0;34m)\u001b[0m\u001b[0;34m:\u001b[0m\u001b[0;34m\u001b[0m\u001b[0;34m\u001b[0m\u001b[0m\n",
      "\u001b[0;32m/usr/lib/python3/dist-packages/pandas/core/indexing.py\u001b[0m in \u001b[0;36m_getitem_axis\u001b[0;34m(self, key, axis)\u001b[0m\n\u001b[1;32m   1796\u001b[0m             \u001b[0mself\u001b[0m\u001b[0;34m.\u001b[0m\u001b[0m_validate_key\u001b[0m\u001b[0;34m(\u001b[0m\u001b[0mkey\u001b[0m\u001b[0;34m,\u001b[0m \u001b[0maxis\u001b[0m\u001b[0;34m)\u001b[0m\u001b[0;34m\u001b[0m\u001b[0;34m\u001b[0m\u001b[0m\n\u001b[1;32m   1797\u001b[0m             \u001b[0;32mreturn\u001b[0m \u001b[0mself\u001b[0m\u001b[0;34m.\u001b[0m\u001b[0m_get_slice_axis\u001b[0m\u001b[0;34m(\u001b[0m\u001b[0mkey\u001b[0m\u001b[0;34m,\u001b[0m \u001b[0maxis\u001b[0m\u001b[0;34m=\u001b[0m\u001b[0maxis\u001b[0m\u001b[0;34m)\u001b[0m\u001b[0;34m\u001b[0m\u001b[0;34m\u001b[0m\u001b[0m\n\u001b[0;32m-> 1798\u001b[0;31m         \u001b[0;32melif\u001b[0m \u001b[0mcom\u001b[0m\u001b[0;34m.\u001b[0m\u001b[0mis_bool_indexer\u001b[0m\u001b[0;34m(\u001b[0m\u001b[0mkey\u001b[0m\u001b[0;34m)\u001b[0m\u001b[0;34m:\u001b[0m\u001b[0;34m\u001b[0m\u001b[0;34m\u001b[0m\u001b[0m\n\u001b[0m\u001b[1;32m   1799\u001b[0m             \u001b[0;32mreturn\u001b[0m \u001b[0mself\u001b[0m\u001b[0;34m.\u001b[0m\u001b[0m_getbool_axis\u001b[0m\u001b[0;34m(\u001b[0m\u001b[0mkey\u001b[0m\u001b[0;34m,\u001b[0m \u001b[0maxis\u001b[0m\u001b[0;34m=\u001b[0m\u001b[0maxis\u001b[0m\u001b[0;34m)\u001b[0m\u001b[0;34m\u001b[0m\u001b[0;34m\u001b[0m\u001b[0m\n\u001b[1;32m   1800\u001b[0m         \u001b[0;32melif\u001b[0m \u001b[0mis_list_like_indexer\u001b[0m\u001b[0;34m(\u001b[0m\u001b[0mkey\u001b[0m\u001b[0;34m)\u001b[0m\u001b[0;34m:\u001b[0m\u001b[0;34m\u001b[0m\u001b[0;34m\u001b[0m\u001b[0m\n",
      "\u001b[0;32m/usr/lib/python3/dist-packages/pandas/core/common.py\u001b[0m in \u001b[0;36mis_bool_indexer\u001b[0;34m(key)\u001b[0m\n\u001b[1;32m    128\u001b[0m             \u001b[0;32mif\u001b[0m \u001b[0;32mnot\u001b[0m \u001b[0mlib\u001b[0m\u001b[0;34m.\u001b[0m\u001b[0mis_bool_array\u001b[0m\u001b[0;34m(\u001b[0m\u001b[0mkey\u001b[0m\u001b[0;34m)\u001b[0m\u001b[0;34m:\u001b[0m\u001b[0;34m\u001b[0m\u001b[0;34m\u001b[0m\u001b[0m\n\u001b[1;32m    129\u001b[0m                 \u001b[0;32mif\u001b[0m \u001b[0misna\u001b[0m\u001b[0;34m(\u001b[0m\u001b[0mkey\u001b[0m\u001b[0;34m)\u001b[0m\u001b[0;34m.\u001b[0m\u001b[0many\u001b[0m\u001b[0;34m(\u001b[0m\u001b[0;34m)\u001b[0m\u001b[0;34m:\u001b[0m\u001b[0;34m\u001b[0m\u001b[0;34m\u001b[0m\u001b[0m\n\u001b[0;32m--> 130\u001b[0;31m                     \u001b[0;32mraise\u001b[0m \u001b[0mValueError\u001b[0m\u001b[0;34m(\u001b[0m\u001b[0mna_msg\u001b[0m\u001b[0;34m)\u001b[0m\u001b[0;34m\u001b[0m\u001b[0;34m\u001b[0m\u001b[0m\n\u001b[0m\u001b[1;32m    131\u001b[0m                 \u001b[0;32mreturn\u001b[0m \u001b[0;32mFalse\u001b[0m\u001b[0;34m\u001b[0m\u001b[0;34m\u001b[0m\u001b[0m\n\u001b[1;32m    132\u001b[0m             \u001b[0;32mreturn\u001b[0m \u001b[0;32mTrue\u001b[0m\u001b[0;34m\u001b[0m\u001b[0;34m\u001b[0m\u001b[0m\n",
      "\u001b[0;31mValueError\u001b[0m: cannot index with vector containing NA / NaN values"
     ]
    }
   ],
   "source": [
    "df.loc[df.iloc[:,0].str.isalpha()]\n",
    "df.drop(df[df.1.str.contains(r'[^0-9a-zA-Z]')"
   ]
  },
  {
   "cell_type": "code",
   "execution_count": 59,
   "metadata": {},
   "outputs": [],
   "source": [
    "xf = df.loc[df[0].str.contains(r'[a-z]')==True]"
   ]
  },
  {
   "cell_type": "code",
   "execution_count": 69,
   "metadata": {},
   "outputs": [],
   "source": [
    "xf.to_csv(r'cz.txt', header=None, index=None, sep=' ')"
   ]
  },
  {
   "cell_type": "code",
   "execution_count": 67,
   "metadata": {
    "collapsed": true
   },
   "outputs": [],
   "source": [
    "xf = xf.loc[xf[0].str.len()<9]"
   ]
  },
  {
   "cell_type": "code",
   "execution_count": null,
   "metadata": {},
   "outputs": [],
   "source": []
  }
 ],
 "metadata": {
  "kernelspec": {
   "display_name": "Python 3",
   "language": "python",
   "name": "python3"
  },
  "language_info": {
   "codemirror_mode": {
    "name": "ipython",
    "version": 3
   },
   "file_extension": ".py",
   "mimetype": "text/x-python",
   "name": "python",
   "nbconvert_exporter": "python",
   "pygments_lexer": "ipython3",
   "version": "3.8.5"
  }
 },
 "nbformat": 4,
 "nbformat_minor": 4
}
